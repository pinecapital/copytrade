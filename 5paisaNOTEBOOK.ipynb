{
 "cells": [
  {
   "cell_type": "code",
   "execution_count": null,
   "id": "initial_id",
   "metadata": {
    "collapsed": true
   },
   "outputs": [],
   "source": [
    "import json\n",
    "import time\n",
    "\n",
    "from py5paisa import FivePaisaClient\n",
    "from py5paisa.order import Order, OrderType, Exchange\n",
    "import pyotp\n",
    "from py5paisa.order import  Exchange\n",
    "import logging\n",
    "logging.basicConfig(level=logging.DEBUG)\n",
    "# Read the JSON file\n",
    "with open('config.json', 'r') as config_file:\n",
    "    config_data = json.load(config_file)\n",
    "\n",
    "# Access the credentials from the JSON data\n",
    "client1 = config_data['client1']\n",
    "appname = client1['appname']\n",
    "appsource = client1['appsource']\n",
    "userid = client1['userid']\n",
    "password = client1['password']\n",
    "userkey = client1['userkey']\n",
    "enckey = client1['enckey']\n",
    "clientcode = client1['clientcode']\n",
    "pin = client1['pin']\n",
    "totp_secret_key = client1['totp']\n",
    "\n",
    "# Generate TOTP using the secret key\n",
    "totp_pin = pyotp.TOTP(totp_secret_key).now()\n",
    "\n",
    "cred={\n",
    "    \"APP_NAME\":appname,\n",
    "    \"APP_SOURCE\":appsource,\n",
    "    \"USER_ID\":userid,\n",
    "    \"PASSWORD\":password,\n",
    "    \"USER_KEY\":userkey,\n",
    "    \"ENCRYPTION_KEY\":enckey\n",
    "    }\n",
    "\n",
    "client = FivePaisaClient(cred=cred)\n",
    "client.get_totp_session(clientcode,totp_pin,pin)"
   ]
  },
  {
   "cell_type": "code",
   "execution_count": null,
   "outputs": [],
   "source": [
    "client.access_token"
   ],
   "metadata": {
    "collapsed": false
   },
   "id": "96285db1e209c873"
  },
  {
   "cell_type": "code",
   "execution_count": null,
   "outputs": [],
   "source": [
    "client.place_order(OrderType='B',Exchange='N',ExchangeType='C', ScripData = \"SBIN_EQ\", Qty=1, Price=625.45,IsIntraday=True,StoplossPrice=600)"
   ],
   "metadata": {
    "collapsed": false
   },
   "id": "d5a9061257ae5aad"
  },
  {
   "cell_type": "code",
   "execution_count": null,
   "outputs": [],
   "source": [
    "testsymbol = \"NIFTY 21 Dec 2023 CE 16750.00_20231121_CE_16750\"\n",
    "docsymbol = \"BANKNIFTY 24 Nov 2022 CE 41600.00_20221124_CE_41600\"\n",
    "client.place_order(OrderType='B',Exchange='N',ExchangeType='D', ScripCode= 41198, Qty=50, Price=625.45,IsIntraday=True,StoplossPrice=600)\n"
   ],
   "metadata": {
    "collapsed": false
   },
   "id": "ec720c9e2622cb72"
  },
  {
   "cell_type": "code",
   "execution_count": null,
   "outputs": [],
   "source": [
    "# Fetches Trade book\n",
    "import time\n",
    "while True:\n",
    "    print(client.order_book())\n",
    "    time.sleep(3)"
   ],
   "metadata": {
    "collapsed": false
   },
   "id": "175b12f02887dcdc"
  },
  {
   "cell_type": "code",
   "execution_count": null,
   "outputs": [],
   "source": [],
   "metadata": {
    "collapsed": false
   },
   "id": "ea78c90a364c7a83"
  },
  {
   "cell_type": "code",
   "execution_count": null,
   "outputs": [],
   "source": [],
   "metadata": {
    "collapsed": false
   },
   "id": "c6ea49c80a9b8b36"
  },
  {
   "cell_type": "markdown",
   "source": [
    "## Scrip code converter\n"
   ],
   "metadata": {
    "collapsed": false
   },
   "id": "b3770ac3ddd46692"
  },
  {
   "cell_type": "code",
   "execution_count": null,
   "outputs": [],
   "source": [
    "import csv\n",
    "import requests\n",
    "import re\n",
    "import io\n",
    "\n",
    "class ScripConverter:\n",
    "    def __init__(self, csv_url):\n",
    "        self.csv_url = csv_url\n",
    "        self.csv_data = self.download_csv(csv_url)\n",
    "\n",
    "    def download_csv(self, url):\n",
    "        response = requests.get(url)\n",
    "        response.raise_for_status()  # Ensure the download was successful\n",
    "        return response.text\n",
    "\n",
    "    def get_csv_reader(self):\n",
    "        return csv.DictReader(io.StringIO(self.csv_data))\n",
    "\n",
    "    def find_scrip_code(self, formatted_symbol, exchange, exch_type):\n",
    "        csv_reader = self.get_csv_reader()\n",
    "        for row in csv_reader:\n",
    "            if row['Name'].strip() == formatted_symbol and row['Exch'] == exchange and row['ExchType'] == exch_type:\n",
    "                return row['ScripCode']\n",
    "        return None\n",
    "\n",
    "    def convert_symbol(self, symbol):\n",
    "        # Standard equity format (e.g., NSE:IDEA-EQ)\n",
    "        if '-EQ' in symbol:\n",
    "            equity_symbol = symbol.split(':')[1].replace('-', '_')\n",
    "            return self.find_scrip_code(equity_symbol, 'B', 'C')\n",
    "\n",
    "        # Special formats (e.g., NSE:NIFTY23D2121300CE)\n",
    "        match = re.match(r'NSE:(BANKNIFTY|FINNIFTY|NIFTY)(\\d{2})([A-Z])(\\d{2})(\\d+)(CE|PE)', symbol)\n",
    "        if match:\n",
    "            index_name, year, month_code, date, strike_price, option_type = match.groups()\n",
    "            year = '20' + year\n",
    "            month_codes = {'F': 'Jan', 'G': 'Feb', 'H': 'Mar', 'J': 'Apr', 'K': 'May', 'M': 'Jun',\n",
    "                           'N': 'Jul', 'Q': 'Aug', 'U': 'Sep', 'V': 'Oct', 'X': 'Nov', 'D': 'Dec'}\n",
    "            month = month_codes.get(month_code.upper())\n",
    "            strike_price = f'{int(strike_price):.2f}'\n",
    "            formatted_symbol = f'{index_name} {date} {month} {year} {option_type} {strike_price}'\n",
    "            print(formatted_symbol)\n",
    "            return self.find_scrip_code(formatted_symbol, 'N', 'D')\n",
    "\n",
    "        return \"Invalid format\"\n",
    "\n",
    "# Example usage\n",
    "csv_url = \"https://openapi.5paisa.com/VendorsAPI/Service1.svc/ScripMaster/segment/All\"\n",
    "converter = ScripConverter(csv_url)"
   ],
   "metadata": {
    "collapsed": false
   },
   "id": "a43952bd3844fa3f"
  },
  {
   "cell_type": "code",
   "execution_count": null,
   "outputs": [],
   "source": [
    "print(converter.convert_symbol(\"NSE:NIFTY23D2816000CE\"))"
   ],
   "metadata": {
    "collapsed": false
   },
   "id": "f4a5d369de1cbe79"
  },
  {
   "cell_type": "code",
   "execution_count": null,
   "outputs": [],
   "source": [
    " "
   ],
   "metadata": {
    "collapsed": false
   },
   "id": "611c2dbe8d104d97"
  },
  {
   "cell_type": "code",
   "execution_count": null,
   "outputs": [],
   "source": [],
   "metadata": {
    "collapsed": false
   },
   "id": "fc607b87c2f35486"
  }
 ],
 "metadata": {
  "kernelspec": {
   "display_name": "Python 3",
   "language": "python",
   "name": "python3"
  },
  "language_info": {
   "codemirror_mode": {
    "name": "ipython",
    "version": 2
   },
   "file_extension": ".py",
   "mimetype": "text/x-python",
   "name": "python",
   "nbconvert_exporter": "python",
   "pygments_lexer": "ipython2",
   "version": "2.7.6"
  }
 },
 "nbformat": 4,
 "nbformat_minor": 5
}
